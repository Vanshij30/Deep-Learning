{
 "cells": [
  {
   "cell_type": "code",
   "execution_count": 1,
   "id": "f1af8a67",
   "metadata": {},
   "outputs": [],
   "source": [
    "import numpy as np\n",
    "import pandas as pd\n",
    "import matplotlib as mlp\n",
    "import matplotlib.pyplot as plt\n",
    "import seaborn as sns\n",
    "import os"
   ]
  },
  {
   "cell_type": "code",
   "execution_count": 2,
   "id": "57949906",
   "metadata": {},
   "outputs": [
    {
     "data": {
      "text/plain": [
       "'C:\\\\Users\\\\025027\\\\Downloads'"
      ]
     },
     "execution_count": 2,
     "metadata": {},
     "output_type": "execute_result"
    }
   ],
   "source": [
    "os.getcwd()"
   ]
  },
  {
   "cell_type": "code",
   "execution_count": null,
   "id": "50fa9892",
   "metadata": {},
   "outputs": [],
   "source": []
  },
  {
   "cell_type": "code",
   "execution_count": 3,
   "id": "57924ccd",
   "metadata": {},
   "outputs": [],
   "source": [
    "import pickle\n",
    "from pathlib import Path\n",
    "\n",
    "# Path to the unzipped CIFAR data\n",
    "data_dir = os.chdir(\"C:\\\\Users\\\\025027\\\\Downloads\\\\training_set\")"
   ]
  },
  {
   "cell_type": "code",
   "execution_count": 4,
   "id": "7ab55ade",
   "metadata": {},
   "outputs": [],
   "source": [
    "import tensorflow as tf"
   ]
  },
  {
   "cell_type": "code",
   "execution_count": 5,
   "id": "d34f822d",
   "metadata": {},
   "outputs": [],
   "source": [
    "from keras.preprocessing.image import ImageDataGenerator"
   ]
  },
  {
   "cell_type": "code",
   "execution_count": 6,
   "id": "d6a700c1",
   "metadata": {},
   "outputs": [
    {
     "data": {
      "text/plain": [
       "'2.9.1'"
      ]
     },
     "execution_count": 6,
     "metadata": {},
     "output_type": "execute_result"
    }
   ],
   "source": [
    "tf.__version__"
   ]
  },
  {
   "cell_type": "code",
   "execution_count": 7,
   "id": "de2e06af",
   "metadata": {},
   "outputs": [
    {
     "name": "stdout",
     "output_type": "stream",
     "text": [
      "Found 8000 images belonging to 2 classes.\n"
     ]
    }
   ],
   "source": [
    "train_datagen = ImageDataGenerator(rescale = 1./255,\n",
    "                                   shear_range = 0.2,\n",
    "                                   zoom_range = 0.2,\n",
    "                                   horizontal_flip = True)\n",
    "training_set = train_datagen.flow_from_directory('C:\\\\Users\\\\025027\\\\Downloads\\\\training_set',\n",
    "                                                 target_size = (64, 64),\n",
    "                                                 batch_size = 32,\n",
    "                                                 class_mode = 'binary') # batchsize refers to the number of images processed at once"
   ]
  },
  {
   "cell_type": "code",
   "execution_count": 8,
   "id": "f3cd6e59",
   "metadata": {},
   "outputs": [
    {
     "name": "stdout",
     "output_type": "stream",
     "text": [
      "Found 2000 images belonging to 2 classes.\n"
     ]
    }
   ],
   "source": [
    "test_datagen = ImageDataGenerator(rescale = 1./255)\n",
    "test_set = test_datagen.flow_from_directory('C:\\\\Users\\\\025027\\\\Downloads\\\\test_set',\n",
    "                                            target_size = (64, 64),\n",
    "                                            batch_size = 32,\n",
    "                                            class_mode = 'binary')"
   ]
  },
  {
   "cell_type": "code",
   "execution_count": 9,
   "id": "87a5cd0c",
   "metadata": {},
   "outputs": [],
   "source": [
    "cnn = tf.keras.models.Sequential()"
   ]
  },
  {
   "cell_type": "code",
   "execution_count": 10,
   "id": "bc5f49f6",
   "metadata": {},
   "outputs": [],
   "source": [
    "cnn.add(tf.keras.layers.Conv2D(filters=32, kernel_size=3, activation='relu', input_shape=[64, 64, 3])) #convolution"
   ]
  },
  {
   "cell_type": "code",
   "execution_count": 11,
   "id": "304d73e3",
   "metadata": {},
   "outputs": [],
   "source": [
    "cnn.add(tf.keras.layers.MaxPool2D(pool_size=2, strides=2)) #pooling"
   ]
  },
  {
   "cell_type": "code",
   "execution_count": 12,
   "id": "6173587b",
   "metadata": {},
   "outputs": [],
   "source": [
    "cnn.add(tf.keras.layers.Conv2D(filters=32, kernel_size=3, activation='relu')) #filter is the feature detector matrix 32x32\n",
    "cnn.add(tf.keras.layers.MaxPool2D(pool_size=2, strides=2)) #adding 2nd convolution layer"
   ]
  },
  {
   "cell_type": "code",
   "execution_count": 13,
   "id": "643f897c",
   "metadata": {},
   "outputs": [],
   "source": [
    "cnn.add(tf.keras.layers.Flatten()) #flattening"
   ]
  },
  {
   "cell_type": "code",
   "execution_count": 14,
   "id": "56651043",
   "metadata": {},
   "outputs": [],
   "source": [
    "cnn.add(tf.keras.layers.Dense(units=128, activation='relu')) #full connection"
   ]
  },
  {
   "cell_type": "code",
   "execution_count": 15,
   "id": "e4a64e09",
   "metadata": {},
   "outputs": [],
   "source": [
    "cnn.add(tf.keras.layers.Dense(units=1, activation='sigmoid'))"
   ]
  },
  {
   "cell_type": "code",
   "execution_count": 16,
   "id": "bf159a70",
   "metadata": {},
   "outputs": [],
   "source": [
    "cnn.compile(optimizer = 'adam', loss = 'binary_crossentropy', metrics = ['accuracy']) "
   ]
  },
  {
   "cell_type": "code",
   "execution_count": 17,
   "id": "54d3587d",
   "metadata": {},
   "outputs": [
    {
     "name": "stdout",
     "output_type": "stream",
     "text": [
      "Epoch 1/25\n",
      "250/250 [==============================] - 26s 103ms/step - loss: 0.6681 - accuracy: 0.6019 - val_loss: 0.6143 - val_accuracy: 0.6590\n",
      "Epoch 2/25\n",
      "250/250 [==============================] - 26s 102ms/step - loss: 0.6105 - accuracy: 0.6699 - val_loss: 0.5835 - val_accuracy: 0.7020\n",
      "Epoch 3/25\n",
      "250/250 [==============================] - 26s 102ms/step - loss: 0.5732 - accuracy: 0.6984 - val_loss: 0.5528 - val_accuracy: 0.7330\n",
      "Epoch 4/25\n",
      "250/250 [==============================] - 26s 103ms/step - loss: 0.5375 - accuracy: 0.7300 - val_loss: 0.5190 - val_accuracy: 0.7570\n",
      "Epoch 5/25\n",
      "250/250 [==============================] - 26s 102ms/step - loss: 0.5118 - accuracy: 0.7433 - val_loss: 0.5193 - val_accuracy: 0.7370\n",
      "Epoch 6/25\n",
      "250/250 [==============================] - 26s 103ms/step - loss: 0.4882 - accuracy: 0.7610 - val_loss: 0.4973 - val_accuracy: 0.7615\n",
      "Epoch 7/25\n",
      "250/250 [==============================] - 26s 103ms/step - loss: 0.4732 - accuracy: 0.7680 - val_loss: 0.4778 - val_accuracy: 0.7710\n",
      "Epoch 8/25\n",
      "250/250 [==============================] - 26s 105ms/step - loss: 0.4500 - accuracy: 0.7862 - val_loss: 0.4782 - val_accuracy: 0.7690\n",
      "Epoch 9/25\n",
      "250/250 [==============================] - 26s 105ms/step - loss: 0.4408 - accuracy: 0.7908 - val_loss: 0.4818 - val_accuracy: 0.7775\n",
      "Epoch 10/25\n",
      "250/250 [==============================] - 26s 103ms/step - loss: 0.4054 - accuracy: 0.8101 - val_loss: 0.4625 - val_accuracy: 0.7830\n",
      "Epoch 11/25\n",
      "250/250 [==============================] - 26s 103ms/step - loss: 0.4069 - accuracy: 0.8151 - val_loss: 0.4709 - val_accuracy: 0.7920\n",
      "Epoch 12/25\n",
      "250/250 [==============================] - 26s 103ms/step - loss: 0.3855 - accuracy: 0.8241 - val_loss: 0.4562 - val_accuracy: 0.7940\n",
      "Epoch 13/25\n",
      "250/250 [==============================] - 26s 103ms/step - loss: 0.3655 - accuracy: 0.8355 - val_loss: 0.4849 - val_accuracy: 0.7870\n",
      "Epoch 14/25\n",
      "250/250 [==============================] - 26s 103ms/step - loss: 0.3506 - accuracy: 0.8420 - val_loss: 0.4874 - val_accuracy: 0.7950\n",
      "Epoch 15/25\n",
      "250/250 [==============================] - 26s 103ms/step - loss: 0.3373 - accuracy: 0.8524 - val_loss: 0.4989 - val_accuracy: 0.7960\n",
      "Epoch 16/25\n",
      "250/250 [==============================] - 26s 103ms/step - loss: 0.3194 - accuracy: 0.8612 - val_loss: 0.4864 - val_accuracy: 0.7960\n",
      "Epoch 17/25\n",
      "250/250 [==============================] - 26s 103ms/step - loss: 0.3027 - accuracy: 0.8717 - val_loss: 0.5054 - val_accuracy: 0.7925\n",
      "Epoch 18/25\n",
      "250/250 [==============================] - 26s 103ms/step - loss: 0.2950 - accuracy: 0.8751 - val_loss: 0.5740 - val_accuracy: 0.7560\n",
      "Epoch 19/25\n",
      "250/250 [==============================] - 26s 102ms/step - loss: 0.2860 - accuracy: 0.8770 - val_loss: 0.6650 - val_accuracy: 0.7330\n",
      "Epoch 20/25\n",
      "250/250 [==============================] - 25s 101ms/step - loss: 0.2666 - accuracy: 0.8904 - val_loss: 0.5218 - val_accuracy: 0.8100\n",
      "Epoch 21/25\n",
      "250/250 [==============================] - 25s 100ms/step - loss: 0.2522 - accuracy: 0.8986 - val_loss: 0.4941 - val_accuracy: 0.8060\n",
      "Epoch 22/25\n",
      "250/250 [==============================] - 25s 100ms/step - loss: 0.2312 - accuracy: 0.9026 - val_loss: 0.5209 - val_accuracy: 0.8075\n",
      "Epoch 23/25\n",
      "250/250 [==============================] - 25s 100ms/step - loss: 0.2297 - accuracy: 0.9046 - val_loss: 0.6123 - val_accuracy: 0.7725\n",
      "Epoch 24/25\n",
      "250/250 [==============================] - 25s 100ms/step - loss: 0.2028 - accuracy: 0.9205 - val_loss: 0.5802 - val_accuracy: 0.8040\n",
      "Epoch 25/25\n",
      "250/250 [==============================] - 25s 100ms/step - loss: 0.1877 - accuracy: 0.9202 - val_loss: 0.5533 - val_accuracy: 0.8040\n"
     ]
    },
    {
     "data": {
      "text/plain": [
       "<keras.callbacks.History at 0x27ddf7b2460>"
      ]
     },
     "execution_count": 17,
     "metadata": {},
     "output_type": "execute_result"
    }
   ],
   "source": [
    "cnn.fit(x = training_set, validation_data = test_set, epochs = 25) #epochs is iterations"
   ]
  },
  {
   "cell_type": "code",
   "execution_count": null,
   "id": "fc460416",
   "metadata": {},
   "outputs": [],
   "source": []
  },
  {
   "cell_type": "code",
   "execution_count": 34,
   "id": "1bde6515",
   "metadata": {},
   "outputs": [
    {
     "name": "stdout",
     "output_type": "stream",
     "text": [
      "1/1 [==============================] - 0s 12ms/step\n"
     ]
    }
   ],
   "source": [
    "import numpy as np\n",
    "from keras.preprocessing import image\n",
    "test_image = tf.keras.preprocessing.image.load_img('C:\\\\Users\\\\025027\\\\Downloads\\\\single_prediction\\\\cat_or_dog_2.jpg', target_size = (64, 64))\n",
    "test_image = tf.keras.preprocessing.image.img_to_array(test_image)\n",
    "test_image = np.expand_dims(test_image, axis = 0)\n",
    "result = cnn.predict(test_image)\n",
    "training_set.class_indices\n",
    "if result[0][0] == 1:\n",
    "  prediction = 'dog'\n",
    "else:\n",
    "  prediction = 'cat'"
   ]
  },
  {
   "cell_type": "code",
   "execution_count": 35,
   "id": "ff6b56cc",
   "metadata": {},
   "outputs": [
    {
     "name": "stdout",
     "output_type": "stream",
     "text": [
      "dog\n"
     ]
    }
   ],
   "source": [
    "print(prediction)"
   ]
  },
  {
   "cell_type": "code",
   "execution_count": null,
   "id": "4b7caea6",
   "metadata": {},
   "outputs": [],
   "source": []
  }
 ],
 "metadata": {
  "kernelspec": {
   "display_name": "Python 3 (ipykernel)",
   "language": "python",
   "name": "python3"
  },
  "language_info": {
   "codemirror_mode": {
    "name": "ipython",
    "version": 3
   },
   "file_extension": ".py",
   "mimetype": "text/x-python",
   "name": "python",
   "nbconvert_exporter": "python",
   "pygments_lexer": "ipython3",
   "version": "3.9.7"
  }
 },
 "nbformat": 4,
 "nbformat_minor": 5
}
