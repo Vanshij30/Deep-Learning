{
 "cells": [
  {
   "cell_type": "code",
   "execution_count": 1,
   "id": "468e59b7",
   "metadata": {},
   "outputs": [],
   "source": [
    "import numpy as np\n",
    "import pandas as pd\n",
    "import matplotlib as mlp\n",
    "import matplotlib.pyplot as plt\n",
    "import seaborn as sns\n",
    "import "
   ]
  },
  {
   "cell_type": "code",
   "execution_count": 2,
   "id": "bb51e12a",
   "metadata": {},
   "outputs": [
    {
     "data": {
      "text/plain": [
       "'E:\\\\FORE\\\\Term 3\\\\MLP'"
      ]
     },
     "execution_count": 2,
     "metadata": {},
     "output_type": "execute_result"
    }
   ],
   "source": [
    "os.getcwd()"
   ]
  },
  {
   "cell_type": "code",
   "execution_count": 3,
   "id": "4c9577b8",
   "metadata": {},
   "outputs": [],
   "source": [
    "os.chdir(\"E:\\\\FORE\\\\Term 4\\\\NLP\\\\CNN Datasets\")"
   ]
  },
  {
   "cell_type": "code",
   "execution_count": 4,
   "id": "f5d0a0dc",
   "metadata": {},
   "outputs": [],
   "source": [
    "import pickle\n",
    "from pathlib import Path\n",
    "\n",
    "# Path to the rice variety dataset\n",
    "data_dir = os.chdir(\"E:\\\\FORE\\\\Term 4\\\\NLP\\\\CNN Datasets\\\\Rice_Image_Dataset\\\\training_set\")"
   ]
  },
  {
   "cell_type": "code",
   "execution_count": 5,
   "id": "e595639a",
   "metadata": {},
   "outputs": [],
   "source": [
    "import tensorflow as tf"
   ]
  },
  {
   "cell_type": "code",
   "execution_count": 6,
   "id": "49a10bb8",
   "metadata": {},
   "outputs": [],
   "source": [
    "from keras.preprocessing.image import ImageDataGenerator"
   ]
  },
  {
   "cell_type": "code",
   "execution_count": 7,
   "id": "2b088569",
   "metadata": {},
   "outputs": [
    {
     "data": {
      "text/plain": [
       "'2.9.1'"
      ]
     },
     "execution_count": 7,
     "metadata": {},
     "output_type": "execute_result"
    }
   ],
   "source": [
    "tf.__version__"
   ]
  },
  {
   "cell_type": "code",
   "execution_count": 8,
   "id": "98a5adc4",
   "metadata": {},
   "outputs": [
    {
     "name": "stdout",
     "output_type": "stream",
     "text": [
      "Found 59987 images belonging to 5 classes.\n"
     ]
    }
   ],
   "source": [
    "train_datagen = ImageDataGenerator(rescale = 1./255,\n",
    "                                   shear_range = 0.2,\n",
    "                                   zoom_range = 0.2,\n",
    "                                   horizontal_flip = True)\n",
    "training_set = train_datagen.flow_from_directory('E:\\\\FORE\\\\Term 4\\\\NLP\\\\CNN Datasets\\\\Rice_Image_Dataset\\\\training_set',\n",
    "                                                 target_size = (64, 64),\n",
    "                                                 batch_size = 32,\n",
    "                                                 class_mode = 'categorical') # batchsize refers to the number of images processed at once"
   ]
  },
  {
   "cell_type": "code",
   "execution_count": 9,
   "id": "2e47c362",
   "metadata": {},
   "outputs": [
    {
     "name": "stdout",
     "output_type": "stream",
     "text": [
      "Found 15013 images belonging to 5 classes.\n"
     ]
    }
   ],
   "source": [
    "test_datagen = ImageDataGenerator(rescale = 1./255)\n",
    "test_set = test_datagen.flow_from_directory('E:\\\\FORE\\\\Term 4\\\\NLP\\\\CNN Datasets\\\\Rice_Image_Dataset\\\\test_set',\n",
    "                                            target_size = (64, 64),\n",
    "                                            batch_size = 32,\n",
    "                                            class_mode = 'categorical') #datapreprocessed\n",
    "#class mode is a category as there are 5 different varieties of rice"
   ]
  },
  {
   "cell_type": "code",
   "execution_count": 10,
   "id": "76c9d5b9",
   "metadata": {},
   "outputs": [],
   "source": [
    "cnn = tf.keras.models.Sequential() #initializing the neural network"
   ]
  },
  {
   "cell_type": "code",
   "execution_count": 11,
   "id": "09f81371",
   "metadata": {},
   "outputs": [],
   "source": [
    "cnn.add(tf.keras.layers.Conv2D(filters=32, kernel_size=3, activation='relu', input_shape=[64, 64, 3])) #convolution"
   ]
  },
  {
   "cell_type": "code",
   "execution_count": 12,
   "id": "8b5d8e67",
   "metadata": {},
   "outputs": [],
   "source": [
    "cnn.add(tf.keras.layers.MaxPool2D(pool_size=2, strides=2)) #pooling"
   ]
  },
  {
   "cell_type": "code",
   "execution_count": 13,
   "id": "5d6bab22",
   "metadata": {},
   "outputs": [],
   "source": [
    "cnn.add(tf.keras.layers.Conv2D(filters=32, kernel_size=3, activation='relu')) #filter is the feature detector matrix 32x32\n",
    "cnn.add(tf.keras.layers.MaxPool2D(pool_size=2, strides=2)) #adding 2nd convolution layer"
   ]
  },
  {
   "cell_type": "code",
   "execution_count": 14,
   "id": "46d4d5a9",
   "metadata": {},
   "outputs": [],
   "source": [
    "cnn.add(tf.keras.layers.Flatten()) #flattening"
   ]
  },
  {
   "cell_type": "code",
   "execution_count": 15,
   "id": "0d17b1b8",
   "metadata": {},
   "outputs": [],
   "source": [
    "cnn.add(tf.keras.layers.Dense(units=128, activation='relu')) #full connection"
   ]
  },
  {
   "cell_type": "code",
   "execution_count": 16,
   "id": "f4e97c18",
   "metadata": {},
   "outputs": [],
   "source": [
    "cnn.add(tf.keras.layers.Dense(units=1, activation='sigmoid'))"
   ]
  },
  {
   "cell_type": "code",
   "execution_count": 18,
   "id": "78eb4a6e",
   "metadata": {},
   "outputs": [],
   "source": [
    "cnn.add(tf.keras.layers.Dense(5, activation='softmax')) #using softmax to predict probability of each class\n",
    "#this also enables categorical crossentropy to calculate the average difference between the actual\n",
    "#and predicted probability distributions for all the 5 varities/ classes"
   ]
  },
  {
   "cell_type": "code",
   "execution_count": 19,
   "id": "4abe84bd",
   "metadata": {},
   "outputs": [],
   "source": [
    "cnn.compile(optimizer = 'adam', loss = 'categorical_crossentropy', metrics = ['accuracy'])"
   ]
  },
  {
   "cell_type": "code",
   "execution_count": 20,
   "id": "e3bfb015",
   "metadata": {},
   "outputs": [
    {
     "name": "stdout",
     "output_type": "stream",
     "text": [
      "Epoch 1/25\n",
      "1875/1875 [==============================] - 122s 65ms/step - loss: 1.3356 - accuracy: 0.3933 - val_loss: 1.1605 - val_accuracy: 0.3989\n",
      "Epoch 2/25\n",
      "1875/1875 [==============================] - 123s 66ms/step - loss: 1.1212 - accuracy: 0.4046 - val_loss: 1.0481 - val_accuracy: 0.4071\n",
      "Epoch 3/25\n",
      "1875/1875 [==============================] - 122s 65ms/step - loss: 1.0341 - accuracy: 0.4153 - val_loss: 1.0113 - val_accuracy: 0.4541\n",
      "Epoch 4/25\n",
      "1875/1875 [==============================] - 122s 65ms/step - loss: 0.9971 - accuracy: 0.4319 - val_loss: 1.0234 - val_accuracy: 0.4441\n",
      "Epoch 5/25\n",
      "1875/1875 [==============================] - 121s 65ms/step - loss: 0.9425 - accuracy: 0.5523 - val_loss: 1.0595 - val_accuracy: 0.3634\n",
      "Epoch 6/25\n",
      "1875/1875 [==============================] - 121s 65ms/step - loss: 0.8450 - accuracy: 0.5930 - val_loss: 1.0606 - val_accuracy: 0.4253\n",
      "Epoch 7/25\n",
      "1875/1875 [==============================] - 123s 66ms/step - loss: 0.7967 - accuracy: 0.5936 - val_loss: 1.0604 - val_accuracy: 0.4094\n",
      "Epoch 8/25\n",
      "1875/1875 [==============================] - 123s 65ms/step - loss: 0.7615 - accuracy: 0.5940 - val_loss: 1.0771 - val_accuracy: 0.4267\n",
      "Epoch 9/25\n",
      "1875/1875 [==============================] - 124s 66ms/step - loss: 0.7319 - accuracy: 0.5971 - val_loss: 1.0480 - val_accuracy: 0.4269\n",
      "Epoch 10/25\n",
      "1875/1875 [==============================] - 122s 65ms/step - loss: 0.7085 - accuracy: 0.5977 - val_loss: 1.0227 - val_accuracy: 0.4361\n",
      "Epoch 11/25\n",
      "1875/1875 [==============================] - 123s 66ms/step - loss: 0.6892 - accuracy: 0.5987 - val_loss: 0.9583 - val_accuracy: 0.4756\n",
      "Epoch 12/25\n",
      "1875/1875 [==============================] - 124s 66ms/step - loss: 0.6712 - accuracy: 0.6035 - val_loss: 0.9661 - val_accuracy: 0.4648\n",
      "Epoch 13/25\n",
      "1875/1875 [==============================] - 124s 66ms/step - loss: 0.6588 - accuracy: 0.6032 - val_loss: 1.0868 - val_accuracy: 0.4203\n",
      "Epoch 14/25\n",
      "1875/1875 [==============================] - 122s 65ms/step - loss: 0.6475 - accuracy: 0.6041 - val_loss: 1.0070 - val_accuracy: 0.4460\n",
      "Epoch 15/25\n",
      "1875/1875 [==============================] - 124s 66ms/step - loss: 0.6346 - accuracy: 0.6038 - val_loss: 0.9432 - val_accuracy: 0.4777\n",
      "Epoch 16/25\n",
      "1875/1875 [==============================] - 124s 66ms/step - loss: 0.6313 - accuracy: 0.6029 - val_loss: 0.9052 - val_accuracy: 0.5022\n",
      "Epoch 17/25\n",
      "1875/1875 [==============================] - 124s 66ms/step - loss: 0.6205 - accuracy: 0.6048 - val_loss: 0.8730 - val_accuracy: 0.5098\n",
      "Epoch 18/25\n",
      "1875/1875 [==============================] - 127s 68ms/step - loss: 0.6176 - accuracy: 0.6087 - val_loss: 1.9530 - val_accuracy: 0.3178\n",
      "Epoch 19/25\n",
      "1875/1875 [==============================] - 137s 73ms/step - loss: 0.6117 - accuracy: 0.6110 - val_loss: 0.8591 - val_accuracy: 0.5172\n",
      "Epoch 20/25\n",
      "1875/1875 [==============================] - 135s 72ms/step - loss: 0.6085 - accuracy: 0.6114 - val_loss: 0.9614 - val_accuracy: 0.4859\n",
      "Epoch 21/25\n",
      "1875/1875 [==============================] - 127s 68ms/step - loss: 0.6020 - accuracy: 0.6133 - val_loss: 0.9749 - val_accuracy: 0.5037\n",
      "Epoch 22/25\n",
      "1875/1875 [==============================] - 124s 66ms/step - loss: 0.6005 - accuracy: 0.6186 - val_loss: 0.8115 - val_accuracy: 0.5443\n",
      "Epoch 23/25\n",
      "1875/1875 [==============================] - 128s 68ms/step - loss: 0.5964 - accuracy: 0.6234 - val_loss: 0.9032 - val_accuracy: 0.5027\n",
      "Epoch 24/25\n",
      "1875/1875 [==============================] - 131s 70ms/step - loss: 0.5956 - accuracy: 0.6571 - val_loss: 0.7685 - val_accuracy: 0.5880\n",
      "Epoch 25/25\n",
      "1875/1875 [==============================] - 131s 70ms/step - loss: 0.5689 - accuracy: 0.7653 - val_loss: 0.6783 - val_accuracy: 0.7210\n"
     ]
    },
    {
     "data": {
      "text/plain": [
       "<keras.callbacks.History at 0x22e0a5ed8b0>"
      ]
     },
     "execution_count": 20,
     "metadata": {},
     "output_type": "execute_result"
    }
   ],
   "source": [
    "cnn.fit(x = training_set, validation_data = test_set, epochs = 25)"
   ]
  },
  {
   "cell_type": "code",
   "execution_count": 47,
   "id": "5086f201",
   "metadata": {},
   "outputs": [
    {
     "data": {
      "image/png": "[encoded data removed]",
      "text/plain": [
       "<Figure size 432x288 with 1 Axes>"
      ]
     },
     "metadata": {
      "needs_background": "light"
     },
     "output_type": "display_data"
    }
   ],
   "source": [
    "import numpy as np\n",
    "from keras.preprocessing import image\n",
    "\n",
    "test_image = tf.keras.preprocessing.image.load_img(\"E:\\\\FORE\\\\Term 4\\\\NLP\\\\CNN Datasets\\\\Rice_Image_Dataset\\\\single_prediction\\\\what.jpg\", \n",
    "                                                   target_size = (64, 64))\n",
    "\n",
    "plt.imshow(test_image)\n",
    "plt.show()"
   ]
  },
  {
   "cell_type": "code",
   "execution_count": 48,
   "id": "3ae01762",
   "metadata": {},
   "outputs": [
    {
     "name": "stdout",
     "output_type": "stream",
     "text": [
      "1/1 [==============================] - 0s 11ms/step\n"
     ]
    }
   ],
   "source": [
    "test_image = tf.keras.preprocessing.image.img_to_array(test_image)\n",
    "test_image = np.expand_dims(test_image, axis = 0)\n",
    "result = cnn.predict(test_image)"
   ]
  },
  {
   "cell_type": "code",
   "execution_count": 35,
   "id": "65ef67d2",
   "metadata": {},
   "outputs": [
    {
     "data": {
      "text/plain": [
       "array([[1.7501226e-05, 3.8268456e-01, 6.0871863e-01, 8.5676806e-03,\n",
       "        1.1600094e-05]], dtype=float32)"
      ]
     },
     "execution_count": 35,
     "metadata": {},
     "output_type": "execute_result"
    }
   ],
   "source": []
  },
  {
   "cell_type": "code",
   "execution_count": 52,
   "id": "049f99d9",
   "metadata": {},
   "outputs": [],
   "source": []
  },
  {
   "cell_type": "code",
   "execution_count": 53,
   "id": "5c322a68",
   "metadata": {},
   "outputs": [
    {
     "name": "stdout",
     "output_type": "stream",
     "text": [
      "Karacadag\n"
     ]
    }
   ],
   "source": []
  },
  {
   "cell_type": "code",
   "execution_count": null,
   "id": "6f4adce2",
   "metadata": {},
   "outputs": [],
   "source": []
  }
 ],
 "metadata": {
  "kernelspec": {
   "display_name": "Python 3 (ipykernel)",
   "language": "python",
   "name": "python3"
  },
  "language_info": {
   "codemirror_mode": {
    "name": "ipython",
    "version": 3
   },
   "file_extension": ".py",
   "mimetype": "text/x-python",
   "name": "python",
   "nbconvert_exporter": "python",
   "pygments_lexer": "ipython3",
   "version": "3.8.8"
  }
 },
 "nbformat": 4,
 "nbformat_minor": 5
}
